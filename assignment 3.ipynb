{
 "cells": [
  {
   "cell_type": "code",
   "execution_count": 119,
   "metadata": {},
   "outputs": [
    {
     "name": "stdout",
     "output_type": "stream",
     "text": [
      "enter first value :3\n",
      "enter second value :9\n",
      "enter any operator :+\n",
      "12 answer\n"
     ]
    }
   ],
   "source": [
    "val1 = input(\"enter first value :\")\n",
    "val2 = input(\"enter second value :\")\n",
    "operator = input(\"enter any operator :\")\n",
    "\n",
    "val1 = int(val1)\n",
    "val2 = int(val2)\n",
    "\n",
    "if operator == '+' :\n",
    "    val = val1 + val2\n",
    "    print(val,'answer')\n",
    "elif operator == '-' :\n",
    "    val = val1 - val2\n",
    "    print(val,'answer')\n",
    "elif operator == '*' :\n",
    "    val = val1 * val2\n",
    "    print(val,'answer')\n",
    "elif operator == '/' :\n",
    "    val = val1 / val2\n",
    "    print(val,'answer')\n",
    "elif operator == '**' :\n",
    "    val = val1 ** val2\n",
    "    print(val,'answer')\n",
    "else:\n",
    "    print('enter correct operator')"
   ]
  },
  {
   "cell_type": "code",
   "execution_count": 48,
   "metadata": {},
   "outputs": [
    {
     "data": {
      "text/plain": [
       "[1, 123131.31, 1e-06, 34.12451235265]"
      ]
     },
     "execution_count": 48,
     "metadata": {},
     "output_type": "execute_result"
    }
   ],
   "source": [
    "list_1 = [ 'awais', 1, 123131.31, 'junaid', 0.000001, 34.12451235265, 'abc' ]\n",
    "import numbers\n",
    "[x for x in list_1 if isinstance(x, numbers.Number)]"
   ]
  },
  {
   "cell_type": "code",
   "execution_count": 43,
   "metadata": {},
   "outputs": [
    {
     "name": "stdout",
     "output_type": "stream",
     "text": [
      "{'first name': 'awais', 'last name': 'hanif', 'address': 'xyz karachi', 'language': 'urdu'}\n"
     ]
    }
   ],
   "source": [
    ">>> customer = {\n",
    "    \"first name\" : \"awais\", \n",
    "   \"last name\" : \"hanif\" ,\n",
    "   \"address\" : \"xyz karachi\"\n",
    "}\n",
    ">>> customer[\"language\"] = \"urdu\"\n",
    ">>> print(customer)"
   ]
  },
  {
   "cell_type": "code",
   "execution_count": 24,
   "metadata": {},
   "outputs": [
    {
     "name": "stdout",
     "output_type": "stream",
     "text": [
      "401\n"
     ]
    }
   ],
   "source": [
    "a = {\n",
    "    'data1': 100,\n",
    "    'data2': 54,\n",
    "    'data3': 247\n",
    "}\n",
    "print(sum(a.values()))"
   ]
  },
  {
   "cell_type": "code",
   "execution_count": 52,
   "metadata": {},
   "outputs": [
    {
     "name": "stdout",
     "output_type": "stream",
     "text": [
      "{4, 6}\n"
     ]
    }
   ],
   "source": [
    "myList  = [2 ,4 , 6, 8, 4, 6, 12]\n",
    "newList = set()\n",
    "\n",
    "for i in myList:\n",
    "    if myList.count(i) >= 2:\n",
    "        newList.add(i)\n",
    "\n",
    "print(newList)"
   ]
  },
  {
   "cell_type": "code",
   "execution_count": 57,
   "metadata": {},
   "outputs": [
    {
     "name": "stdout",
     "output_type": "stream",
     "text": [
      "Key is present in the dictionary\n",
      "Key is not present in the dictionary\n"
     ]
    }
   ],
   "source": [
    ">>> d = {1: 10, 2: 20, 3: 30, 4: 40, 5: 50, 6: 60}\n",
    ">>> def is_key_present(x):\n",
    ">>>  if x in d:\n",
    ">>>      print('Key is present in the dictionary')\n",
    ">>>  else:\n",
    ">>>      print('Key is not present in the dictionary')\n",
    ">>> is_key_present(5)\n",
    ">>> is_key_present(9)"
   ]
  },
  {
   "cell_type": "code",
   "execution_count": null,
   "metadata": {},
   "outputs": [],
   "source": []
  }
 ],
 "metadata": {
  "kernelspec": {
   "display_name": "Python 3",
   "language": "python",
   "name": "python3"
  },
  "language_info": {
   "codemirror_mode": {
    "name": "ipython",
    "version": 3
   },
   "file_extension": ".py",
   "mimetype": "text/x-python",
   "name": "python",
   "nbconvert_exporter": "python",
   "pygments_lexer": "ipython3",
   "version": "3.7.4"
  }
 },
 "nbformat": 4,
 "nbformat_minor": 2
}
