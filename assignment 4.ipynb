{
 "cells": [
  {
   "cell_type": "code",
   "execution_count": 1,
   "metadata": {},
   "outputs": [
    {
     "name": "stdout",
     "output_type": "stream",
     "text": [
      "{'first name': 'awais', 'last name': 'hanif', 'city': 'karachi', 'age': '24'}\n",
      "{'first name': 'awais', 'last name': 'hanif', 'city': 'karachi', 'age': '24', 'qualification': 'matric'}\n",
      "{'first name': 'awais', 'last name': 'hanif', 'city': 'karachi', 'age': '24', 'qualification': 'high academic level '}\n",
      "{'first name': 'awais', 'last name': 'hanif', 'city': 'karachi', 'age': '24'}\n"
     ]
    }
   ],
   "source": [
    "person = {\n",
    "    \"first name\" : \"awais\", \n",
    "   \"last name\" : \"hanif\" ,\n",
    "   \"city\" : \"karachi\",\n",
    "    \"age\" : \"24\"\n",
    "}\n",
    "print(person)\n",
    "person[\"qualification\"] = \"matric\"\n",
    "print(person)\n",
    "person[\"qualification\"] = \"high academic level \"\n",
    "print(person)\n",
    "del person[\"qualification\"]\n",
    "print(person)"
   ]
  },
  {
   "cell_type": "code",
   "execution_count": 2,
   "metadata": {},
   "outputs": [
    {
     "name": "stdout",
     "output_type": "stream",
     "text": [
      "cities name is : karachi\n",
      "country name is : pakistan\n",
      "population is : 15,741,000\n",
      "fact of the city : the cheapest city to live in\n",
      ".............\n",
      "cities name is : hong kong\n",
      "country name is : china\n",
      "population is : 7.392 million\n",
      "fact of the city : the most skyscrapers in the world\n",
      ".............\n",
      "cities name is : london\n",
      "country name is : england\n",
      "population is : 8.9 million\n",
      "fact of the city : The Romans were the first to make London their home\n",
      ".............\n"
     ]
    }
   ],
   "source": [
    "cities ={\n",
    "    \"karachi\" : {\n",
    "        \"country\" : \"pakistan\",\n",
    "        \"population\" : \"15,741,000\",\n",
    "        \"fact\" : \"the cheapest city to live in\"\n",
    "    },\n",
    "        \"hong kong\" : {\n",
    "        \"country\" : \"china\",\n",
    "        \"population\" : \"7.392 million\",\n",
    "        \"fact\" : \"the most skyscrapers in the world\"\n",
    "    },\n",
    "     \"london\" : {\n",
    "        \"country\" : \"england\",\n",
    "        \"population\" : \"8.9 million\",\n",
    "        \"fact\" : \"The Romans were the first to make London their home\"\n",
    "    },\n",
    "}\n",
    "for i in cities.keys():\n",
    "    print(\"cities name is :\", i)\n",
    "    print(\"country name is :\" , cities[i][\"country\"])\n",
    "    print(\"population is :\" , cities[i][\"population\"])\n",
    "    print(\"fact of the city :\" , cities[i][\"fact\"])\n",
    "    print(\".............\")"
   ]
  },
  {
   "cell_type": "code",
   "execution_count": 3,
   "metadata": {},
   "outputs": [
    {
     "name": "stdout",
     "output_type": "stream",
     "text": [
      "Enter The Book Title: hobbit lord of rings\n",
      "One Of my Favourite Book  hobbit lord of rings\n"
     ]
    }
   ],
   "source": [
    "def favourite_book(book_Name):\n",
    "    print(\"One Of my Favourite Book \",book_Name)\n",
    "    \n",
    "title=input(\"Enter The Book Title: \")\n",
    "\n",
    "favourite_book(title)"
   ]
  },
  {
   "cell_type": "code",
   "execution_count": 6,
   "metadata": {},
   "outputs": [
    {
     "name": "stdout",
     "output_type": "stream",
     "text": [
      "Guess the number between 1 to 30 : 23\n",
      "Your guess is too high\n",
      "Guess the number between 1 to 30 : 3\n",
      "Your guess is too low\n",
      "Guess the number between 1 to 30 : 12\n",
      "Your guess is too high\n",
      "You Loose\n",
      "Correct Number is  4\n"
     ]
    }
   ],
   "source": [
    "\n",
    "# Question No. 05\n",
    "import random\n",
    "\n",
    "random_number = random.randrange(1,30)\n",
    "\n",
    "flag = False\n",
    "\n",
    "for i in range(1,4):\n",
    "    guess_corre = int(input(\"Guess the number between 1 to 30 : \"))\n",
    "    if guess_corre == random_number:\n",
    "        flag = True \n",
    "        break\n",
    "    elif guess_corre < random_number:\n",
    "        print(\"Your guess is too low\")\n",
    "    else:\n",
    "        print(\"Your guess is too high\")\n",
    "        \n",
    "if flag:\n",
    "    print(\"Congratulation you Win!!\")\n",
    "else:\n",
    "    print(\"You Loose\")\n",
    "    print(\"Correct Number is \", random_number)"
   ]
  },
  {
   "cell_type": "code",
   "execution_count": 10,
   "metadata": {},
   "outputs": [
    {
     "name": "stdout",
     "output_type": "stream",
     "text": [
      "How old are you?\n",
      "Enter 'quit' when you are finished. 15\n",
      "  Your ticket is $15.\n",
      "How old are you?\n",
      "Enter 'quit' when you are finished. 10\n",
      "  Your ticket is $10.\n",
      "How old are you?\n",
      "Enter 'quit' when you are finished. quit\n"
     ]
    }
   ],
   "source": [
    "prompt = \"How old are you?\"\n",
    "prompt += \"\\nEnter 'quit' when you are finished. \"\n",
    "\n",
    "while True:\n",
    "    age = input(prompt)\n",
    "    if age == 'quit':\n",
    "        break\n",
    "    age = int(age)\n",
    "\n",
    "    if age < 3:\n",
    "        print(\"  You get in free!\")\n",
    "    elif age < 13:\n",
    "        print(\"  Your ticket is $10.\")\n",
    "    else:\n",
    "        print(\"  Your ticket is $15.\")"
   ]
  },
  {
   "cell_type": "code",
   "execution_count": null,
   "metadata": {},
   "outputs": [],
   "source": []
  },
  {
   "cell_type": "code",
   "execution_count": null,
   "metadata": {},
   "outputs": [],
   "source": []
  }
 ],
 "metadata": {
  "kernelspec": {
   "display_name": "Python 3",
   "language": "python",
   "name": "python3"
  },
  "language_info": {
   "codemirror_mode": {
    "name": "ipython",
    "version": 3
   },
   "file_extension": ".py",
   "mimetype": "text/x-python",
   "name": "python",
   "nbconvert_exporter": "python",
   "pygments_lexer": "ipython3",
   "version": "3.7.4"
  }
 },
 "nbformat": 4,
 "nbformat_minor": 2
}
