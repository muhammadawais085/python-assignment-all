{
 "cells": [
  {
   "cell_type": "code",
   "execution_count": 5,
   "metadata": {},
   "outputs": [
    {
     "name": "stdout",
     "output_type": "stream",
     "text": [
      "Input a number to compute the factiorial : 6\n",
      "720\n"
     ]
    }
   ],
   "source": [
    "def factorial(a):\n",
    "    if a == 0:\n",
    "        return 1\n",
    "    else:\n",
    "        return a * factorial(a-1)\n",
    "a=int(input(\"Input a number to compute the factiorial : \"))\n",
    "print(factorial(a))"
   ]
  },
  {
   "cell_type": "code",
   "execution_count": 32,
   "metadata": {},
   "outputs": [
    {
     "name": "stdout",
     "output_type": "stream",
     "text": [
      "4 32\n",
      "10 11\n"
     ]
    }
   ],
   "source": [
    "def count_upper_lower(string):\n",
    "    lowercase_letter_count = 0\n",
    "    uppercase_letter_count = 0\n",
    "\n",
    "    for letter in string:\n",
    "        if letter.isupper():\n",
    "            uppercase_letter_count += 1\n",
    "        elif letter.islower():\n",
    "            lowercase_letter_count += 1\n",
    "\n",
    "    print (uppercase_letter_count, lowercase_letter_count)\n",
    "\n",
    "\n",
    "count_upper_lower(\"Hello Mr. awaiS, how are you this fine Tuesday?\")\n",
    "\n",
    "count_upper_lower(\"The FAT DOG Moaned AlL day!\")"
   ]
  },
  {
   "cell_type": "code",
   "execution_count": 51,
   "metadata": {},
   "outputs": [
    {
     "name": "stdout",
     "output_type": "stream",
     "text": [
      "10 4 8 None\n"
     ]
    }
   ],
   "source": [
    "list1 = [10, 4, 8, 9, 11, 27]\n",
    "def func(list1):\n",
    "    for num in list1:\n",
    "        if num % 2 ==0:\n",
    "            print(num, end = \" \")\n",
    "print(func(list1))"
   ]
  },
  {
   "cell_type": "code",
   "execution_count": 40,
   "metadata": {},
   "outputs": [
    {
     "name": "stdout",
     "output_type": "stream",
     "text": [
      "enter your string :madam\n",
      "string in reverse order : madam\n",
      "this is a palindrome string\n"
     ]
    }
   ],
   "source": [
    "def reverse(str1):\n",
    "    if(len(str1)==0):\n",
    "        return str1\n",
    "    else:\n",
    "        return reverse(str1[1 : ]) + str1[0]\n",
    "\n",
    "string = input(\"enter your string :\")\n",
    "str1 = reverse(string)\n",
    "print(\"string in reverse order :\" , str1)\n",
    "\n",
    "if(string==str1):\n",
    "    print(\"this is a palindrome string\")\n",
    "else:\n",
    "    print(\"this is not a palindrome string\")"
   ]
  },
  {
   "cell_type": "code",
   "execution_count": 30,
   "metadata": {},
   "outputs": [
    {
     "name": "stdout",
     "output_type": "stream",
     "text": [
      "True\n"
     ]
    }
   ],
   "source": [
    "def test_prime(num):\n",
    "    if (num==1):\n",
    "        return False\n",
    "    elif (num==2):\n",
    "        return True;\n",
    "    else:\n",
    "        for x in range(2, num):\n",
    "            if(num % x==0):\n",
    "                return False\n",
    "        return True             \n",
    "print(test_prime(7))"
   ]
  },
  {
   "cell_type": "code",
   "execution_count": 21,
   "metadata": {},
   "outputs": [
    {
     "name": "stdout",
     "output_type": "stream",
     "text": [
      "------------------------\n",
      "your shopping list is :\n",
      "------------------------\n",
      "\n",
      "suger\n",
      "rice\n",
      "flour\n",
      "salt\n",
      "\n",
      "xxxxxxxxxxxxxxxxxxxxxx\n",
      "thankyou for coming\n",
      "xxxxxxxxxxxxxxxxxxxxxx\n"
     ]
    }
   ],
   "source": [
    "def func(*perameter):\n",
    "    for param in perameter:\n",
    "        print(param)\n",
    "\n",
    "print(\"------------------------\")\n",
    "print(\"your shopping list is :\")\n",
    "print(\"------------------------\\n\")\n",
    "\n",
    "func (\"suger\", \"rice\", \"flour\", \"salt\")\n",
    "\n",
    "print(\"\\nxxxxxxxxxxxxxxxxxxxxxx\")\n",
    "print(\"thankyou for coming\")\n",
    "print(\"xxxxxxxxxxxxxxxxxxxxxx\")"
   ]
  },
  {
   "cell_type": "code",
   "execution_count": null,
   "metadata": {},
   "outputs": [],
   "source": []
  },
  {
   "cell_type": "code",
   "execution_count": null,
   "metadata": {},
   "outputs": [],
   "source": []
  }
 ],
 "metadata": {
  "kernelspec": {
   "display_name": "Python 3",
   "language": "python",
   "name": "python3"
  },
  "language_info": {
   "codemirror_mode": {
    "name": "ipython",
    "version": 3
   },
   "file_extension": ".py",
   "mimetype": "text/x-python",
   "name": "python",
   "nbconvert_exporter": "python",
   "pygments_lexer": "ipython3",
   "version": "3.7.4"
  }
 },
 "nbformat": 4,
 "nbformat_minor": 2
}
