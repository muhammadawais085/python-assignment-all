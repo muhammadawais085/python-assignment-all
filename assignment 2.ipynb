{
 "cells": [
  {
   "cell_type": "code",
   "execution_count": 2,
   "metadata": {},
   "outputs": [
    {
     "name": "stdout",
     "output_type": "stream",
     "text": [
      "enter any number :22\n",
      "this is an even number\n"
     ]
    }
   ],
   "source": [
    "num = int(input(\"enter any number :\"))\n",
    "a = num % 2\n",
    "if a==0:\n",
    "    print(\"this is an even number\")\n",
    "else:\n",
    "    print(\"this number is 0dd\")"
   ]
  },
  {
   "cell_type": "code",
   "execution_count": 1,
   "metadata": {},
   "outputs": [
    {
     "name": "stdout",
     "output_type": "stream",
     "text": [
      "The length of list is:  3\n"
     ]
    }
   ],
   "source": [
    "n = len([10, 20, 30]) \n",
    "print(\"The length of list is: \", n) \n"
   ]
  },
  {
   "cell_type": "code",
   "execution_count": 4,
   "metadata": {},
   "outputs": [
    {
     "name": "stdout",
     "output_type": "stream",
     "text": [
      "marks in english:70\n",
      "marks of maths:40\n",
      "marks of physics:60\n",
      "marks of chemistry:35\n",
      "marks of computer:80\n",
      "garde C\n"
     ]
    }
   ],
   "source": [
    "sub1 = int(input(\"marks in english:\"))\n",
    "\n",
    "sub2 = int(input(\"marks of maths:\"))\n",
    "\n",
    "sub3 = int(input(\"marks of physics:\"))\n",
    "\n",
    "sub4 = int(input(\"marks of chemistry:\"))\n",
    "\n",
    "sub5 = int(input(\"marks of computer:\"))\n",
    "\n",
    "per = (sub1+sub2+sub3+sub4+sub5)/5\n",
    "if per >=80:\n",
    "    print(\"garde A+\")\n",
    "elif per >=70 and per <80 :\n",
    "    printe(\"garde A\")\n",
    "elif per >=60 and per <70 :\n",
    "    print(\"grade B\")\n",
    "elif per >=50 and per <60 :\n",
    "    print(\"garde C\")\n",
    "elif per >=40 and per <50 :\n",
    "    print(\"grade D\")\n",
    "elif per >=30 and per <40 :\n",
    "    print(\"grade E\")\n",
    "else:\n",
    "    print(\"failed\")\n"
   ]
  },
  {
   "cell_type": "code",
   "execution_count": 8,
   "metadata": {},
   "outputs": [
    {
     "name": "stdout",
     "output_type": "stream",
     "text": [
      "sum of number in given list is 232\n"
     ]
    }
   ],
   "source": [
    "n = [1, 1, 2, 3, 5, 8, 13, 21, 34, 55, 89]\n",
    "print(\"sum of number in given list is\", sum(n))"
   ]
  },
  {
   "cell_type": "code",
   "execution_count": 25,
   "metadata": {},
   "outputs": [
    {
     "name": "stdout",
     "output_type": "stream",
     "text": [
      "largest number  89\n"
     ]
    }
   ],
   "source": [
    "a = [1, 1, 2, 3, 5, 8, 13, 21, 34, 55, 89]\n",
    "print (\"largest number \", max(a))"
   ]
  },
  {
   "cell_type": "code",
   "execution_count": 1,
   "metadata": {},
   "outputs": [
    {
     "name": "stdout",
     "output_type": "stream",
     "text": [
      "1\n",
      "1\n",
      "2\n",
      "3\n",
      "4\n"
     ]
    }
   ],
   "source": [
    "a = [1, 1, 2, 3, 4, 5, 8, 13, 21, 34, 55, 89]\n",
    "\n",
    "for i in a:\n",
    "\n",
    "    if i < 5:\n",
    "\n",
    "        print(i)"
   ]
  },
  {
   "cell_type": "code",
   "execution_count": null,
   "metadata": {},
   "outputs": [],
   "source": []
  }
 ],
 "metadata": {
  "kernelspec": {
   "display_name": "Python 3",
   "language": "python",
   "name": "python3"
  },
  "language_info": {
   "codemirror_mode": {
    "name": "ipython",
    "version": 3
   },
   "file_extension": ".py",
   "mimetype": "text/x-python",
   "name": "python",
   "nbconvert_exporter": "python",
   "pygments_lexer": "ipython3",
   "version": "3.7.4"
  }
 },
 "nbformat": 4,
 "nbformat_minor": 2
}
